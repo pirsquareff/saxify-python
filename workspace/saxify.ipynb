{
 "cells": [
  {
   "cell_type": "code",
   "execution_count": 47,
   "metadata": {},
   "outputs": [],
   "source": [
    "import numpy as np\n",
    "import pandas as pd\n",
    "import scipy.stats\n",
    "import string"
   ]
  },
  {
   "cell_type": "code",
   "execution_count": 48,
   "metadata": {},
   "outputs": [],
   "source": [
    "class SAX:\n",
    "    def __init__(self, ts_length, sax_length, n_alphabets):\n",
    "        if (n_alphabets < 3):\n",
    "            raise ValueError('The alphabet size should be at least 3.')\n",
    "        \n",
    "        self.ts_length = ts_length\n",
    "        self.sax_length = sax_length\n",
    "        self.n_alphabets = n_alphabets\n",
    "        self.alphabets = list(string.ascii_uppercase[0:n_alphabets])\n",
    "\n",
    "        # Given that the normalized time series have highly Gaussian\n",
    "        # distribution, we can simply determine the \"breakpoints\" that will\n",
    "        # produce a equal-sized areas under Gaussian curve\n",
    "        # Ref: http://www.cs.ucr.edu/~eamonn/SAX.pdf\n",
    "        breakpoints = []\n",
    "        breakpoints.append(-np.inf)\n",
    "        for i in range(1, n_alphabets):\n",
    "            breakpoints.append(scipy.stats.norm.ppf(i / n_alphabets))\n",
    "        breakpoints.append(np.inf)\n",
    "        self.breakpoints = breakpoints\n",
    "    \n",
    "    def transform(self, ts):\n",
    "        ts_normalized = self.__z_normalize(ts)\n",
    "        ts_paa = self.__reduce_dim_by_paa(ts_normalized)\n",
    "        ts_discretized = self.__discretize(ts_paa)\n",
    "        return ''.join(ts_discretized.ravel())\n",
    "    \n",
    "    def mindist(self, sax_a, sax_b):\n",
    "        sax_a_index = np.array([ord(x) - ord('A') for x in list(sax_a)]) + 1\n",
    "        sax_b_index = np.array([ord(x) - ord('A') for x in list(sax_b)]) + 1\n",
    "        \n",
    "        bps = self.breakpoints\n",
    "        scaling_factor = float(self.ts_length / self.sax_length)\n",
    "        dists = np.array([0 if np.abs(r - c) <= 1 else bps[np.amax([r, c]) - 1] - bps[np.amin([r, c])] for (r, c) in zip(sax_a_index, sax_b_index)])\n",
    "        return np.sqrt(scaling_factor * np.sum(dists**2))\n",
    "    \n",
    "    def __z_normalize(self, ts):\n",
    "        return scipy.stats.zscore(ts)\n",
    "    \n",
    "    def __reduce_dim_by_paa(self, ts):\n",
    "        statistic, _, _ = scipy.stats.binned_statistic(np.arange(self.ts_length), ts, statistic='mean', bins=self.sax_length)\n",
    "        return statistic\n",
    "    \n",
    "    def __discretize(self, ts):\n",
    "        return pd.cut(ts, bins=self.breakpoints, labels=self.alphabets)"
   ]
  },
  {
   "cell_type": "code",
   "execution_count": 49,
   "metadata": {},
   "outputs": [],
   "source": [
    "x = 7\n",
    "y = 5\n",
    "z = 6 # Number of alphabet for SAX string\n",
    "n = 2**x # Time series length\n",
    "w = 2**y # SAX string length\n",
    "data_dir = './data/'"
   ]
  },
  {
   "cell_type": "code",
   "execution_count": 41,
   "metadata": {},
   "outputs": [],
   "source": [
    "# Initialize two random time series of length n\n",
    "# TS_A = np.around(np.random.uniform(0, x, n), decimals=2)\n",
    "# TS_B = np.around(np.random.uniform(0, x, n), decimals=2)"
   ]
  },
  {
   "cell_type": "code",
   "execution_count": 50,
   "metadata": {},
   "outputs": [],
   "source": [
    "# Load time series data from files\n",
    "TS_A = np.loadtxt(data_dir + 'ts_a.txt', delimiter=' ')\n",
    "TS_B = np.loadtxt(data_dir + 'ts_b.txt', delimiter=' ')"
   ]
  },
  {
   "cell_type": "code",
   "execution_count": 51,
   "metadata": {},
   "outputs": [],
   "source": [
    "sax = SAX(ts_length=n, sax_length=w, n_alphabets=z)"
   ]
  },
  {
   "cell_type": "code",
   "execution_count": 52,
   "metadata": {},
   "outputs": [],
   "source": [
    "# Transform to SAX\n",
    "SAX_A = sax.transform(TS_A)\n",
    "SAX_B = sax.transform(TS_B)"
   ]
  },
  {
   "cell_type": "code",
   "execution_count": 53,
   "metadata": {},
   "outputs": [
    {
     "name": "stdout",
     "output_type": "stream",
     "text": [
      "SAX_A: EDDCEDCCCBCDBBDECDDDCCDDDDECBDEC\n",
      "SAX_B: CDCCCDFFCCBDCBDCDBEBECFBCECCCCDC\n"
     ]
    }
   ],
   "source": [
    "print('SAX_A: {0:s}'.format(SAX_A))\n",
    "print('SAX_B: {0:s}'.format(SAX_B))"
   ]
  },
  {
   "cell_type": "code",
   "execution_count": 54,
   "metadata": {},
   "outputs": [
    {
     "name": "stdout",
     "output_type": "stream",
     "text": [
      "Distance between SAX_A and SAX_B: 3.82\n"
     ]
    }
   ],
   "source": [
    "# Calculate a distance between SAX_A and SAX_B\n",
    "mindist = np.around(sax.mindist(SAX_A, SAX_B), decimals=2)\n",
    "print('Distance between SAX_A and SAX_B: {0:.2f}'.format(mindist))"
   ]
  },
  {
   "cell_type": "code",
   "execution_count": 55,
   "metadata": {},
   "outputs": [],
   "source": [
    "# Save data as files\n",
    "np.savetxt(data_dir + 'ts_a.txt', TS_A, fmt='%.2f', delimiter=' ')\n",
    "np.savetxt(data_dir + 'ts_b.txt', TS_B, fmt='%.2f', delimiter=' ')\n",
    "np.savetxt(data_dir + 'ts_a_normalized.txt', sax._SAX__z_normalize(TS_A), fmt='%.2f', delimiter=' ')\n",
    "np.savetxt(data_dir + 'ts_b_normalized.txt', sax._SAX__z_normalize(TS_B), fmt='%.2f', delimiter=' ')\n",
    "\n",
    "fp1 = open(data_dir + 'sax_a.txt', 'w')\n",
    "fp2 = open(data_dir + 'sax_b.txt', 'w')\n",
    "fp1.write('{0:s}'.format(SAX_A))\n",
    "fp2.write('{0:s}'.format(SAX_B))\n",
    "fp1.close()\n",
    "fp2.close()"
   ]
  },
  {
   "cell_type": "code",
   "execution_count": 58,
   "metadata": {},
   "outputs": [],
   "source": [
    "fp3 = open(data_dir + 'result.txt', 'w')\n",
    "fp3.write('5730329521\\tParinthorn Saithong (Aof)\\n')\n",
    "fp3.write('X = {0:d}\\n'.format(x))\n",
    "fp3.write('Y = {0:d}\\n'.format(y))\n",
    "fp3.write('Z = {0:d}\\n'.format(z))\n",
    "fp3.write('n = {0:d}\\n'.format(n))\n",
    "fp3.write('w = {0:d}\\n'.format(w))\n",
    "fp3.write('SAX_A = {0:s}\\n'.format(SAX_A))\n",
    "fp3.write('SAX_B = {0:s}\\n'.format(SAX_B))\n",
    "fp3.write('Distance between SAX_A & SAX_B = {0:.2f}\\n'.format(mindist))\n",
    "fp3.close()"
   ]
  },
  {
   "cell_type": "code",
   "execution_count": null,
   "metadata": {},
   "outputs": [],
   "source": []
  }
 ],
 "metadata": {
  "kernelspec": {
   "display_name": "Python 3",
   "language": "python",
   "name": "python3"
  },
  "language_info": {
   "codemirror_mode": {
    "name": "ipython",
    "version": 3
   },
   "file_extension": ".py",
   "mimetype": "text/x-python",
   "name": "python",
   "nbconvert_exporter": "python",
   "pygments_lexer": "ipython3",
   "version": "3.6.4"
  }
 },
 "nbformat": 4,
 "nbformat_minor": 2
}
